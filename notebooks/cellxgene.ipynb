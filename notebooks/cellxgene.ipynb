{
 "cells": [
  {
   "cell_type": "markdown",
   "metadata": {},
   "source": [
    "### Gene Correlation Matrix: Analyzing Expression Data in AnnData Format\n",
    "\n",
    "This Jupyter Notebook demonstrates how to download and analyze gene expression data in AnnData format based on a specified tissue or cell type. It filters out genes with zero expression values and computes a correlation matrix for a specified gene.\n",
    "\n",
    "#### Steps:\n",
    "\n",
    "1. **Open and Query Data:**\n",
    "   - Access gene expression data using `cellxgene_census.open_soma()`.\n",
    "   - Query data for 'Homo sapiens' and filter by cell type ('adipocyte') or tissue type ('Adipose').\n",
    "\n",
    "2. **Filter Genes:**\n",
    "   - Set gene names (`adata.var['feature_id']`).\n",
    "   - Filter out genes with zero expression values.\n",
    "\n",
    "3. **Convert to DataFrame:**\n",
    "   - Convert the filtered expression data into a Pandas DataFrame.\n",
    "\n",
    "4. **Filter Samples:**\n",
    "   - Remove samples where the gene of interest has zero expression.\n",
    "   - Print the percentage of samples with non-zero expression for the gene of interest.\n",
    "\n",
    "5. **Calculate Correlations:**\n",
    "   - Compute Pearson correlation coefficients for the gene of interest.\n",
    "   - Return and print the top 500 most positively and negatively correlated genes.\n",
    "\n",
    "#### Usage Instructions:\n",
    "\n",
    "- Modify the `cell_type`, `tissue_type`, and `gene_of_interest` variables as needed.\n",
    "- Use `get_coexpression_matrix(gene, tissue, cell_type, k=500)` to obtain top correlated genes.\n",
    "\n",
    "#### Notes:\n",
    "\n",
    "- Ensure access to the appropriate AnnData formatted dataset.\n",
    "- Experiment with different parameters to explore gene expression correlations.\n"
   ]
  },
  {
   "cell_type": "markdown",
   "metadata": {},
   "source": [
    "### Downloading Dependencies\n",
    "\n",
    "To run this notebook, ensure you have the necessary libraries installed:\n",
    "\n",
    "- `cellxgene_census` for accessing gene expression data.\n",
    "- `pandas` for data manipulation and analysis.\n",
    "- `numpy` for numerical operations.\n",
    "- `scipy.stats` for statistical calculations, including Pearson correlation (`pearsonr`).\n"
   ]
  },
  {
   "cell_type": "code",
   "execution_count": 2,
   "metadata": {},
   "outputs": [
    {
     "name": "stdout",
     "output_type": "stream",
     "text": [
      "Requirement already satisfied: cellxgene-census in ./venv/lib/python3.10/site-packages (1.15.0)\n",
      "Requirement already satisfied: pandas in ./venv/lib/python3.10/site-packages (2.2.2)\n",
      "Requirement already satisfied: numpy in ./venv/lib/python3.10/site-packages (1.26.4)\n",
      "Requirement already satisfied: scipy in ./venv/lib/python3.10/site-packages (1.14.0)\n",
      "Requirement already satisfied: s3fs>=2021.06.1 in ./venv/lib/python3.10/site-packages (from cellxgene-census) (2024.6.1)\n",
      "Requirement already satisfied: typing-extensions in ./venv/lib/python3.10/site-packages (from cellxgene-census) (4.12.2)\n",
      "Requirement already satisfied: requests in ./venv/lib/python3.10/site-packages (from cellxgene-census) (2.32.3)\n",
      "Requirement already satisfied: anndata in ./venv/lib/python3.10/site-packages (from cellxgene-census) (0.10.8)\n",
      "Requirement already satisfied: tiledbsoma~=1.11.4 in ./venv/lib/python3.10/site-packages (from cellxgene-census) (1.11.4)\n",
      "Requirement already satisfied: python-dateutil>=2.8.2 in ./venv/lib/python3.10/site-packages (from pandas) (2.9.0.post0)\n",
      "Requirement already satisfied: tzdata>=2022.7 in ./venv/lib/python3.10/site-packages (from pandas) (2024.1)\n",
      "Requirement already satisfied: pytz>=2020.1 in ./venv/lib/python3.10/site-packages (from pandas) (2024.1)\n",
      "Requirement already satisfied: six>=1.5 in ./venv/lib/python3.10/site-packages (from python-dateutil>=2.8.2->pandas) (1.16.0)\n",
      "Requirement already satisfied: fsspec==2024.6.1.* in ./venv/lib/python3.10/site-packages (from s3fs>=2021.06.1->cellxgene-census) (2024.6.1)\n",
      "Requirement already satisfied: aiohttp!=4.0.0a0,!=4.0.0a1 in ./venv/lib/python3.10/site-packages (from s3fs>=2021.06.1->cellxgene-census) (3.9.5)\n",
      "Requirement already satisfied: aiobotocore<3.0.0,>=2.5.4 in ./venv/lib/python3.10/site-packages (from s3fs>=2021.06.1->cellxgene-census) (2.13.1)\n",
      "Requirement already satisfied: pyarrow>=9.0.0 in ./venv/lib/python3.10/site-packages (from tiledbsoma~=1.11.4->cellxgene-census) (17.0.0)\n",
      "Requirement already satisfied: tiledb~=0.29.0 in ./venv/lib/python3.10/site-packages (from tiledbsoma~=1.11.4->cellxgene-census) (0.29.1)\n",
      "Requirement already satisfied: numba>=0.58.0 in ./venv/lib/python3.10/site-packages (from tiledbsoma~=1.11.4->cellxgene-census) (0.60.0)\n",
      "Requirement already satisfied: pyarrow-hotfix in ./venv/lib/python3.10/site-packages (from tiledbsoma~=1.11.4->cellxgene-census) (0.6)\n",
      "Requirement already satisfied: scanpy>=1.9.2 in ./venv/lib/python3.10/site-packages (from tiledbsoma~=1.11.4->cellxgene-census) (1.10.2)\n",
      "Requirement already satisfied: somacore==1.0.11 in ./venv/lib/python3.10/site-packages (from tiledbsoma~=1.11.4->cellxgene-census) (1.0.11)\n",
      "Requirement already satisfied: attrs>=22.2 in ./venv/lib/python3.10/site-packages (from tiledbsoma~=1.11.4->cellxgene-census) (23.2.0)\n",
      "Requirement already satisfied: natsort in ./venv/lib/python3.10/site-packages (from anndata->cellxgene-census) (8.4.0)\n",
      "Requirement already satisfied: array-api-compat!=1.5,>1.4 in ./venv/lib/python3.10/site-packages (from anndata->cellxgene-census) (1.7.1)\n",
      "Requirement already satisfied: packaging>=20.0 in ./venv/lib/python3.10/site-packages (from anndata->cellxgene-census) (24.1)\n",
      "Requirement already satisfied: h5py>=3.1 in ./venv/lib/python3.10/site-packages (from anndata->cellxgene-census) (3.11.0)\n",
      "Requirement already satisfied: exceptiongroup in ./venv/lib/python3.10/site-packages (from anndata->cellxgene-census) (1.2.2)\n",
      "Requirement already satisfied: charset-normalizer<4,>=2 in ./venv/lib/python3.10/site-packages (from requests->cellxgene-census) (3.3.2)\n",
      "Requirement already satisfied: urllib3<3,>=1.21.1 in ./venv/lib/python3.10/site-packages (from requests->cellxgene-census) (2.2.2)\n",
      "Requirement already satisfied: certifi>=2017.4.17 in ./venv/lib/python3.10/site-packages (from requests->cellxgene-census) (2024.7.4)\n",
      "Requirement already satisfied: idna<4,>=2.5 in ./venv/lib/python3.10/site-packages (from requests->cellxgene-census) (3.7)\n",
      "Requirement already satisfied: botocore<1.34.132,>=1.34.70 in ./venv/lib/python3.10/site-packages (from aiobotocore<3.0.0,>=2.5.4->s3fs>=2021.06.1->cellxgene-census) (1.34.131)\n",
      "Requirement already satisfied: wrapt<2.0.0,>=1.10.10 in ./venv/lib/python3.10/site-packages (from aiobotocore<3.0.0,>=2.5.4->s3fs>=2021.06.1->cellxgene-census) (1.16.0)\n",
      "Requirement already satisfied: aioitertools<1.0.0,>=0.5.1 in ./venv/lib/python3.10/site-packages (from aiobotocore<3.0.0,>=2.5.4->s3fs>=2021.06.1->cellxgene-census) (0.11.0)\n",
      "Requirement already satisfied: aiosignal>=1.1.2 in ./venv/lib/python3.10/site-packages (from aiohttp!=4.0.0a0,!=4.0.0a1->s3fs>=2021.06.1->cellxgene-census) (1.3.1)\n",
      "Requirement already satisfied: frozenlist>=1.1.1 in ./venv/lib/python3.10/site-packages (from aiohttp!=4.0.0a0,!=4.0.0a1->s3fs>=2021.06.1->cellxgene-census) (1.4.1)\n",
      "Requirement already satisfied: multidict<7.0,>=4.5 in ./venv/lib/python3.10/site-packages (from aiohttp!=4.0.0a0,!=4.0.0a1->s3fs>=2021.06.1->cellxgene-census) (6.0.5)\n",
      "Requirement already satisfied: async-timeout<5.0,>=4.0 in ./venv/lib/python3.10/site-packages (from aiohttp!=4.0.0a0,!=4.0.0a1->s3fs>=2021.06.1->cellxgene-census) (4.0.3)\n",
      "Requirement already satisfied: yarl<2.0,>=1.0 in ./venv/lib/python3.10/site-packages (from aiohttp!=4.0.0a0,!=4.0.0a1->s3fs>=2021.06.1->cellxgene-census) (1.9.4)\n",
      "Requirement already satisfied: llvmlite<0.44,>=0.43.0dev0 in ./venv/lib/python3.10/site-packages (from numba>=0.58.0->tiledbsoma~=1.11.4->cellxgene-census) (0.43.0)\n",
      "Requirement already satisfied: seaborn>=0.13 in ./venv/lib/python3.10/site-packages (from scanpy>=1.9.2->tiledbsoma~=1.11.4->cellxgene-census) (0.13.2)\n",
      "Requirement already satisfied: joblib in ./venv/lib/python3.10/site-packages (from scanpy>=1.9.2->tiledbsoma~=1.11.4->cellxgene-census) (1.4.2)\n",
      "Requirement already satisfied: scikit-learn>=0.24 in ./venv/lib/python3.10/site-packages (from scanpy>=1.9.2->tiledbsoma~=1.11.4->cellxgene-census) (1.5.1)\n",
      "Requirement already satisfied: matplotlib>=3.6 in ./venv/lib/python3.10/site-packages (from scanpy>=1.9.2->tiledbsoma~=1.11.4->cellxgene-census) (3.9.1)\n",
      "Requirement already satisfied: session-info in ./venv/lib/python3.10/site-packages (from scanpy>=1.9.2->tiledbsoma~=1.11.4->cellxgene-census) (1.0.0)\n",
      "Requirement already satisfied: umap-learn!=0.5.0,>=0.5 in ./venv/lib/python3.10/site-packages (from scanpy>=1.9.2->tiledbsoma~=1.11.4->cellxgene-census) (0.5.6)\n",
      "Requirement already satisfied: networkx>=2.7 in ./venv/lib/python3.10/site-packages (from scanpy>=1.9.2->tiledbsoma~=1.11.4->cellxgene-census) (3.3)\n",
      "Requirement already satisfied: pynndescent>=0.5 in ./venv/lib/python3.10/site-packages (from scanpy>=1.9.2->tiledbsoma~=1.11.4->cellxgene-census) (0.5.13)\n",
      "Requirement already satisfied: legacy-api-wrap>=1.4 in ./venv/lib/python3.10/site-packages (from scanpy>=1.9.2->tiledbsoma~=1.11.4->cellxgene-census) (1.4)\n",
      "Requirement already satisfied: statsmodels>=0.13 in ./venv/lib/python3.10/site-packages (from scanpy>=1.9.2->tiledbsoma~=1.11.4->cellxgene-census) (0.14.2)\n",
      "Requirement already satisfied: patsy in ./venv/lib/python3.10/site-packages (from scanpy>=1.9.2->tiledbsoma~=1.11.4->cellxgene-census) (0.5.6)\n",
      "Requirement already satisfied: tqdm in ./venv/lib/python3.10/site-packages (from scanpy>=1.9.2->tiledbsoma~=1.11.4->cellxgene-census) (4.66.4)\n",
      "Requirement already satisfied: jmespath<2.0.0,>=0.7.1 in ./venv/lib/python3.10/site-packages (from botocore<1.34.132,>=1.34.70->aiobotocore<3.0.0,>=2.5.4->s3fs>=2021.06.1->cellxgene-census) (1.0.1)\n",
      "Requirement already satisfied: cycler>=0.10 in ./venv/lib/python3.10/site-packages (from matplotlib>=3.6->scanpy>=1.9.2->tiledbsoma~=1.11.4->cellxgene-census) (0.12.1)\n",
      "Requirement already satisfied: contourpy>=1.0.1 in ./venv/lib/python3.10/site-packages (from matplotlib>=3.6->scanpy>=1.9.2->tiledbsoma~=1.11.4->cellxgene-census) (1.2.1)\n",
      "Requirement already satisfied: kiwisolver>=1.3.1 in ./venv/lib/python3.10/site-packages (from matplotlib>=3.6->scanpy>=1.9.2->tiledbsoma~=1.11.4->cellxgene-census) (1.4.5)\n",
      "Requirement already satisfied: pyparsing>=2.3.1 in ./venv/lib/python3.10/site-packages (from matplotlib>=3.6->scanpy>=1.9.2->tiledbsoma~=1.11.4->cellxgene-census) (3.1.2)\n",
      "Requirement already satisfied: pillow>=8 in ./venv/lib/python3.10/site-packages (from matplotlib>=3.6->scanpy>=1.9.2->tiledbsoma~=1.11.4->cellxgene-census) (10.4.0)\n",
      "Requirement already satisfied: fonttools>=4.22.0 in ./venv/lib/python3.10/site-packages (from matplotlib>=3.6->scanpy>=1.9.2->tiledbsoma~=1.11.4->cellxgene-census) (4.53.1)\n",
      "Requirement already satisfied: threadpoolctl>=3.1.0 in ./venv/lib/python3.10/site-packages (from scikit-learn>=0.24->scanpy>=1.9.2->tiledbsoma~=1.11.4->cellxgene-census) (3.5.0)\n",
      "Requirement already satisfied: stdlib_list in ./venv/lib/python3.10/site-packages (from session-info->scanpy>=1.9.2->tiledbsoma~=1.11.4->cellxgene-census) (0.10.0)\n",
      "Note: you may need to restart the kernel to use updated packages.\n"
     ]
    }
   ],
   "source": [
    "%pip install cellxgene-census pandas numpy scipy"
   ]
  },
  {
   "cell_type": "markdown",
   "metadata": {},
   "source": [
    "### Importing Required Libraries\n",
    "\n",
    "This code cell imports necessary libraries for data analysis:\n",
    "\n",
    "- `cellxgene_census`: Imports functionality for working with cellxgene data.\n",
    "- `pandas` (`pd`): Imports the Pandas library for data manipulation and analysis.\n",
    "- `numpy` (`np`): Imports NumPy for numerical computing operations.\n",
    "- `pearsonr` from `scipy.stats`: Imports the `pearsonr` function specifically for computing Pearson correlation coefficients.\n"
   ]
  },
  {
   "cell_type": "code",
   "execution_count": 3,
   "metadata": {},
   "outputs": [],
   "source": [
    "import cellxgene_census\n",
    "import pandas as pd\n",
    "import numpy as np\n",
    "from scipy.stats import pearsonr"
   ]
  },
  {
   "cell_type": "markdown",
   "metadata": {},
   "source": [
    "### Function to Get Co-Expression Matrix\n",
    "\n",
    "The following code defines a function `get_coexpression_matrix` that performs the following steps:\n",
    "\n",
    "1. **Open and Query Data:**\n",
    "   - Uses `cellxgene_census.open_soma()` to access the gene expression data.\n",
    "   - Queries data for the organism 'Homo sapiens' and filters by a specific cell type (`cell_type`) using `obs_value_filter=f\"cell_type == '{cell_type}'\"`.\n",
    "\n",
    "2. **Ensure Correct Gene Names and Filter Genes:**\n",
    "   - Checks and sets gene names (`adata.var['feature_id']`).\n",
    "   - Filters out genes with zero expression values (`adata.X > 0`).\n",
    "\n",
    "3. **Convert Data to DataFrame:**\n",
    "   - Converts the filtered expression data into a Pandas DataFrame (`df_expression`).\n",
    "\n",
    "4. **Filter Samples Based on Gene of Interest Expression:**\n",
    "   - Filters out samples where the gene of interest has zero expression.\n",
    "   - Calculates and prints the percentage of samples with non-zero expression for the gene of interest.\n",
    "\n",
    "5. **Calculate Pearson Correlations:**\n",
    "   - Computes Pearson correlation coefficients between the gene of interest and other genes in `df_expression`.\n",
    "   - Sorts and returns the top 500 most positively and negatively correlated genes.\n",
    "\n",
    "The function is then run with an example gene (`ENSG00000140718`) and the specified tissue and cell type (`Adipose` and `adipocyte`). The top 10 most positively and negatively correlated genes are printed.\n",
    "\n",
    "#### Usage Instructions:\n",
    "\n",
    "- Call `get_coexpression_matrix(gene, tissue, cell_type, k=500)` with your desired gene, tissue type, and cell type.\n",
    "- The function will return two lists: the top 500 most positively and negatively correlated genes.\n",
    "- Modify `k` to adjust the number of top correlations returned.\n",
    "\n",
    "Example:\n",
    "```python\n",
    "top_positive, top_negative = get_coexpression_matrix('ENSG00000140718', 'Adipose', 'adipocyte', k=500)\n"
   ]
  },
  {
   "cell_type": "code",
   "execution_count": 9,
   "metadata": {},
   "outputs": [],
   "source": [
    "def get_coexpression_matrix(gene, tissue, cell_type, k=500):\n",
    "    with cellxgene_census.open_soma() as census:\n",
    "        # Query the data for a specific organism and cell types\n",
    "        adata = cellxgene_census.get_anndata(\n",
    "            census=census,\n",
    "            organism=\"Homo sapiens\",\n",
    "            obs_value_filter=f\"cell_type == '{cell_type}'\", # use obs_value_filter=f\"tissue_general == '{tissue}'\" if you want to filter with tissue type\n",
    "            column_names={\"obs\": [\"assay\", \"cell_type\", \"tissue\", \"tissue_general\", \"suspension_type\", \"disease\"]},\n",
    "        )\n",
    "\n",
    "        # Ensure the gene names are set correctly\n",
    "        if 'feature_id' in adata.var.columns:  # Adjust column name as needed\n",
    "            adata.var_names = adata.var['feature_id']\n",
    "        else:\n",
    "            print(\"Gene names column 'feature_id' not found in var DataFrame\")\n",
    "\n",
    "        # Filter out genes with zero expression values\n",
    "        gene_expression_sum = np.array((adata.X > 0).sum(axis=0)).flatten()\n",
    "        adata_filtered = adata[:, gene_expression_sum > 0]\n",
    "\n",
    "        # Convert the filtered expression data to a DataFrame\n",
    "        df_expression = pd.DataFrame(adata_filtered.X.toarray(), columns=adata_filtered.var['feature_id'])\n",
    "\n",
    "        # Check if the gene of interest is in the dataset\n",
    "        if gene in df_expression.columns:\n",
    "            # Filter out samples where the gene of interest is not expressed (expression value = 0)\n",
    "            non_zero_samples = df_expression[df_expression[gene] > 0]\n",
    "            \n",
    "            # Calculate percentage of samples with non-zero expression for the gene of interest\n",
    "            total_samples = df_expression.shape[0]\n",
    "            non_zero_sample_count = non_zero_samples.shape[0]\n",
    "            non_zero_percentage = (non_zero_sample_count / total_samples) * 100\n",
    "\n",
    "            print(f\"Total samples: {total_samples}\")\n",
    "            print(f\"Samples with non-zero expression for '{gene}': {non_zero_sample_count} ({non_zero_percentage:.2f}%)\")\n",
    "\n",
    "            # Calculate Pearson correlation coefficients and p-values\n",
    "            correlations = {}\n",
    "            for g in non_zero_samples.columns:\n",
    "                if g != gene:\n",
    "                    corr, p_value = pearsonr(non_zero_samples[gene], non_zero_samples[g])\n",
    "                    if p_value < 0.05:\n",
    "                        correlations[g] = corr\n",
    "                        \n",
    "            # Sort correlations\n",
    "            sorted_correlations = sorted(correlations.items(), key=lambda x: x[1], reverse=True)\n",
    "            top_positive = sorted_correlations[:k]\n",
    "            top_negative = sorted_correlations[-k:]\n",
    "\n",
    "            return top_positive, top_negative\n",
    "        else:\n",
    "            print(f\"Gene of interest '{gene}' not found in the dataset.\")\n",
    "            return [], []"
   ]
  },
  {
   "cell_type": "markdown",
   "metadata": {},
   "source": [
    "### Selecting Tissue or Cell Type and Gene of Interest\n",
    "\n",
    "The below code cell sets variables to specify the tissue or cell type and a specific gene for analysis:\n"
   ]
  },
  {
   "cell_type": "code",
   "execution_count": 10,
   "metadata": {},
   "outputs": [],
   "source": [
    "gene_of_interest = 'ENSG00000140718'\n",
    "tissue_type = 'Adipose'\n",
    "cell_type = 'adipocyte'"
   ]
  },
  {
   "cell_type": "markdown",
   "metadata": {},
   "source": [
    "### Running the Co-Expression Matrix Function\n",
    "\n",
    "The following code calls the `get_coexpression_matrix` function to obtain the top 500 most positively and negatively correlated genes for a specified gene of interest, tissue type, and cell type.\n"
   ]
  },
  {
   "cell_type": "code",
   "execution_count": 11,
   "metadata": {},
   "outputs": [
    {
     "name": "stderr",
     "output_type": "stream",
     "text": [
      "The \"stable\" release is currently 2024-07-01. Specify 'census_version=\"2024-07-01\"' in future calls to open_soma() to ensure data consistency.\n",
      "/tmp/ipykernel_2985221/3158660545.py:4: FutureWarning: The argument `column_names` is deprecated and will be removed in a future release. Please use `obs_column_names` and `var_column_names` instead.\n",
      "  adata = cellxgene_census.get_anndata(\n"
     ]
    },
    {
     "name": "stdout",
     "output_type": "stream",
     "text": [
      "Total samples: 81378\n",
      "Samples with non-zero expression for 'ENSG00000140718': 53193 (65.37%)\n"
     ]
    },
    {
     "name": "stderr",
     "output_type": "stream",
     "text": [
      "/tmp/ipykernel_2985221/3158660545.py:41: ConstantInputWarning: An input array is constant; the correlation coefficient is not defined.\n",
      "  corr, p_value = pearsonr(non_zero_samples[gene], non_zero_samples[g])\n"
     ]
    }
   ],
   "source": [
    "top_positive, top_negative = get_coexpression_matrix(gene_of_interest, tissue_type, cell_type, k=500)"
   ]
  },
  {
   "cell_type": "markdown",
   "metadata": {},
   "source": [
    "### Printing Top Correlated Genes\n",
    "\n",
    "The following code prints the top 10 most positively correlated genes with the specified gene of interest. Each gene is listed along with its Pearson correlation coefficient."
   ]
  },
  {
   "cell_type": "code",
   "execution_count": 12,
   "metadata": {},
   "outputs": [
    {
     "name": "stdout",
     "output_type": "stream",
     "text": [
      "Top 10 most positively correlated genes:\n",
      "ENSG00000181722: correlation = 0.700\n",
      "ENSG00000230590: correlation = 0.682\n",
      "ENSG00000116117: correlation = 0.675\n",
      "ENSG00000090905: correlation = 0.675\n",
      "ENSG00000131558: correlation = 0.667\n",
      "ENSG00000144357: correlation = 0.664\n",
      "ENSG00000184903: correlation = 0.663\n",
      "ENSG00000152818: correlation = 0.658\n",
      "ENSG00000144036: correlation = 0.656\n",
      "ENSG00000164330: correlation = 0.654\n"
     ]
    }
   ],
   "source": [
    "print(\"Top 10 most positively correlated genes:\")\n",
    "for gene, corr in top_positive[:10]:\n",
    "    print(f\"{gene}: correlation = {corr:.3f}\")"
   ]
  },
  {
   "cell_type": "markdown",
   "metadata": {},
   "source": [
    "The following code prints the top 10 most negatively correlated genes with the specified gene of interest. Each gene is listed along with its Pearson correlation coefficient."
   ]
  },
  {
   "cell_type": "code",
   "execution_count": 13,
   "metadata": {},
   "outputs": [
    {
     "name": "stdout",
     "output_type": "stream",
     "text": [
      "\n",
      "Top 10 most negatively correlated genes:\n",
      "ENSG00000233932: correlation = 0.009\n",
      "ENSG00000236301: correlation = 0.009\n",
      "ENSG00000255307: correlation = 0.009\n",
      "ENSG00000257366: correlation = 0.009\n",
      "ENSG00000263435: correlation = 0.009\n",
      "ENSG00000233411: correlation = 0.009\n",
      "ENSG00000272788: correlation = 0.009\n",
      "ENSG00000287076: correlation = 0.009\n",
      "ENSG00000180697: correlation = 0.009\n",
      "ENSG00000231815: correlation = 0.009\n"
     ]
    }
   ],
   "source": [
    "print(\"\\nTop 10 most negatively correlated genes:\")\n",
    "for gene, corr in top_negative[:10]:\n",
    "    print(f\"{gene}: correlation = {corr:.3f}\")"
   ]
  },
  {
   "cell_type": "code",
   "execution_count": null,
   "metadata": {},
   "outputs": [],
   "source": []
  }
 ],
 "metadata": {
  "kernelspec": {
   "display_name": "venv",
   "language": "python",
   "name": "python3"
  },
  "language_info": {
   "codemirror_mode": {
    "name": "ipython",
    "version": 3
   },
   "file_extension": ".py",
   "mimetype": "text/x-python",
   "name": "python",
   "nbconvert_exporter": "python",
   "pygments_lexer": "ipython3",
   "version": "3.10.6"
  }
 },
 "nbformat": 4,
 "nbformat_minor": 2
}
